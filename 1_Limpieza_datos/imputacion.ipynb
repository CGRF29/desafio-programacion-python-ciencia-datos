{
 "cells": [
  {
   "cell_type": "code",
   "execution_count": null,
   "metadata": {},
   "outputs": [],
   "source": [
    "#pip install -U scikit-learn"
   ]
  },
  {
   "cell_type": "code",
   "execution_count": 39,
   "metadata": {},
   "outputs": [],
   "source": [
    "# Library\n",
    "import pandas as pd\n",
    "from sklearn.linear_model import LinearRegression\n"
   ]
  },
  {
   "cell_type": "code",
   "execution_count": 11,
   "metadata": {},
   "outputs": [
    {
     "name": "stdout",
     "output_type": "stream",
     "text": [
      "      Nombre  Apellido       Sexo Estado_Civil  Edad  Experiencia  Salario  \\\n",
      "0  Alexandro       NaN  Masculino   Soltero(a)  22.0          3.0   2423.0   \n",
      "1     Carlos       NaN  Masculino    Casado(a)  38.0         10.0   3132.0   \n",
      "2     Felipa       NaN   Femenino   Soltero(a)  26.0          5.0   2639.0   \n",
      "3     Daniel       NaN  Masculino    Casado(a)  35.0         10.0   3122.0   \n",
      "4       John       NaN  Masculino    Casado(a)  35.0         13.0   3431.0   \n",
      "\n",
      "  Gerencia          Departamento  \n",
      "0       No            Publicidad  \n",
      "1       Sí                   NaN  \n",
      "2       No             Comercial  \n",
      "3       No             Comercial  \n",
      "4       Sí  Servicios al cliente  \n"
     ]
    }
   ],
   "source": [
    "df = pd.read_csv('empleados.csv', delimiter=';')\n",
    "print(df.head())\n"
   ]
  },
  {
   "cell_type": "code",
   "execution_count": 12,
   "metadata": {},
   "outputs": [
    {
     "data": {
      "text/plain": [
       "Nombre           6\n",
       "Sexo            37\n",
       "Estado_Civil     4\n",
       "Edad            61\n",
       "Experiencia      4\n",
       "Salario          6\n",
       "Gerencia        21\n",
       "Departamento    12\n",
       "dtype: int64"
      ]
     },
     "execution_count": 12,
     "metadata": {},
     "output_type": "execute_result"
    }
   ],
   "source": [
    "df_ = df.drop(axis=1, columns=['Apellido'])\n",
    "df_.isnull().sum()\n"
   ]
  },
  {
   "cell_type": "code",
   "execution_count": 27,
   "metadata": {},
   "outputs": [
    {
     "data": {
      "text/html": [
       "<div>\n",
       "<style scoped>\n",
       "    .dataframe tbody tr th:only-of-type {\n",
       "        vertical-align: middle;\n",
       "    }\n",
       "\n",
       "    .dataframe tbody tr th {\n",
       "        vertical-align: top;\n",
       "    }\n",
       "\n",
       "    .dataframe thead th {\n",
       "        text-align: right;\n",
       "    }\n",
       "</style>\n",
       "<table border=\"1\" class=\"dataframe\">\n",
       "  <thead>\n",
       "    <tr style=\"text-align: right;\">\n",
       "      <th></th>\n",
       "      <th>Nombre</th>\n",
       "      <th>Sexo</th>\n",
       "      <th>Estado_Civil</th>\n",
       "      <th>Edad</th>\n",
       "      <th>Experiencia</th>\n",
       "      <th>Salario</th>\n",
       "      <th>Gerencia</th>\n",
       "      <th>Departamento</th>\n",
       "    </tr>\n",
       "  </thead>\n",
       "  <tbody>\n",
       "    <tr>\n",
       "      <th>0</th>\n",
       "      <td>Alexandro</td>\n",
       "      <td>Masculino</td>\n",
       "      <td>Soltero(a)</td>\n",
       "      <td>22.0</td>\n",
       "      <td>3.0</td>\n",
       "      <td>2423.0</td>\n",
       "      <td>No</td>\n",
       "      <td>Publicidad</td>\n",
       "    </tr>\n",
       "    <tr>\n",
       "      <th>1</th>\n",
       "      <td>Carlos</td>\n",
       "      <td>Masculino</td>\n",
       "      <td>Casado(a)</td>\n",
       "      <td>38.0</td>\n",
       "      <td>10.0</td>\n",
       "      <td>3132.0</td>\n",
       "      <td>Sí</td>\n",
       "      <td>NaN</td>\n",
       "    </tr>\n",
       "    <tr>\n",
       "      <th>2</th>\n",
       "      <td>Felipa</td>\n",
       "      <td>Femenino</td>\n",
       "      <td>Soltero(a)</td>\n",
       "      <td>26.0</td>\n",
       "      <td>5.0</td>\n",
       "      <td>2639.0</td>\n",
       "      <td>No</td>\n",
       "      <td>Comercial</td>\n",
       "    </tr>\n",
       "    <tr>\n",
       "      <th>3</th>\n",
       "      <td>Daniel</td>\n",
       "      <td>Masculino</td>\n",
       "      <td>Casado(a)</td>\n",
       "      <td>35.0</td>\n",
       "      <td>10.0</td>\n",
       "      <td>3122.0</td>\n",
       "      <td>No</td>\n",
       "      <td>Comercial</td>\n",
       "    </tr>\n",
       "    <tr>\n",
       "      <th>4</th>\n",
       "      <td>John</td>\n",
       "      <td>Masculino</td>\n",
       "      <td>Casado(a)</td>\n",
       "      <td>35.0</td>\n",
       "      <td>13.0</td>\n",
       "      <td>3431.0</td>\n",
       "      <td>Sí</td>\n",
       "      <td>Servicios al cliente</td>\n",
       "    </tr>\n",
       "    <tr>\n",
       "      <th>...</th>\n",
       "      <td>...</td>\n",
       "      <td>...</td>\n",
       "      <td>...</td>\n",
       "      <td>...</td>\n",
       "      <td>...</td>\n",
       "      <td>...</td>\n",
       "      <td>...</td>\n",
       "      <td>...</td>\n",
       "    </tr>\n",
       "    <tr>\n",
       "      <th>246</th>\n",
       "      <td>Jose</td>\n",
       "      <td>Masculino</td>\n",
       "      <td>Casado(a)</td>\n",
       "      <td>30.0</td>\n",
       "      <td>6.0</td>\n",
       "      <td>2760.0</td>\n",
       "      <td>No</td>\n",
       "      <td>Servicios al cliente</td>\n",
       "    </tr>\n",
       "    <tr>\n",
       "      <th>247</th>\n",
       "      <td>Marcelo</td>\n",
       "      <td>Masculino</td>\n",
       "      <td>Divorciado(a)</td>\n",
       "      <td>44.0</td>\n",
       "      <td>15.0</td>\n",
       "      <td>3616.0</td>\n",
       "      <td>No</td>\n",
       "      <td>IT</td>\n",
       "    </tr>\n",
       "    <tr>\n",
       "      <th>248</th>\n",
       "      <td>Eric</td>\n",
       "      <td>NaN</td>\n",
       "      <td>Casado(a)</td>\n",
       "      <td>25.0</td>\n",
       "      <td>7.0</td>\n",
       "      <td>2880.0</td>\n",
       "      <td>Sí</td>\n",
       "      <td>Recursos Humanos</td>\n",
       "    </tr>\n",
       "    <tr>\n",
       "      <th>249</th>\n",
       "      <td>Marc</td>\n",
       "      <td>NaN</td>\n",
       "      <td>Casado(a)</td>\n",
       "      <td>24.0</td>\n",
       "      <td>2.0</td>\n",
       "      <td>2172.0</td>\n",
       "      <td>No</td>\n",
       "      <td>Producto</td>\n",
       "    </tr>\n",
       "    <tr>\n",
       "      <th>250</th>\n",
       "      <td>Leandro</td>\n",
       "      <td>Masculino</td>\n",
       "      <td>Casado(a)</td>\n",
       "      <td>37.0</td>\n",
       "      <td>11.0</td>\n",
       "      <td>3245.0</td>\n",
       "      <td>No</td>\n",
       "      <td>Finanzas</td>\n",
       "    </tr>\n",
       "  </tbody>\n",
       "</table>\n",
       "<p>229 rows × 8 columns</p>\n",
       "</div>"
      ],
      "text/plain": [
       "        Nombre       Sexo   Estado_Civil  Edad  Experiencia  Salario Gerencia  \\\n",
       "0    Alexandro  Masculino     Soltero(a)  22.0          3.0   2423.0       No   \n",
       "1       Carlos  Masculino      Casado(a)  38.0         10.0   3132.0       Sí   \n",
       "2       Felipa   Femenino     Soltero(a)  26.0          5.0   2639.0       No   \n",
       "3       Daniel  Masculino      Casado(a)  35.0         10.0   3122.0       No   \n",
       "4         John  Masculino      Casado(a)  35.0         13.0   3431.0       Sí   \n",
       "..         ...        ...            ...   ...          ...      ...      ...   \n",
       "246       Jose  Masculino      Casado(a)  30.0          6.0   2760.0       No   \n",
       "247    Marcelo  Masculino  Divorciado(a)  44.0         15.0   3616.0       No   \n",
       "248       Eric        NaN      Casado(a)  25.0          7.0   2880.0       Sí   \n",
       "249       Marc        NaN      Casado(a)  24.0          2.0   2172.0       No   \n",
       "250    Leandro  Masculino      Casado(a)  37.0         11.0   3245.0       No   \n",
       "\n",
       "             Departamento  \n",
       "0              Publicidad  \n",
       "1                     NaN  \n",
       "2               Comercial  \n",
       "3               Comercial  \n",
       "4    Servicios al cliente  \n",
       "..                    ...  \n",
       "246  Servicios al cliente  \n",
       "247                    IT  \n",
       "248      Recursos Humanos  \n",
       "249              Producto  \n",
       "250              Finanzas  \n",
       "\n",
       "[229 rows x 8 columns]"
      ]
     },
     "execution_count": 27,
     "metadata": {},
     "output_type": "execute_result"
    }
   ],
   "source": [
    "df_actualizado_ = df_.dropna(axis=0, thresh=7)\n",
    "df_actualizado_\n"
   ]
  },
  {
   "cell_type": "code",
   "execution_count": 28,
   "metadata": {},
   "outputs": [
    {
     "data": {
      "text/plain": [
       "Nombre           1\n",
       "Sexo            26\n",
       "Estado_Civil     0\n",
       "Edad            46\n",
       "Experiencia      0\n",
       "Salario          1\n",
       "Gerencia         7\n",
       "Departamento     3\n",
       "dtype: int64"
      ]
     },
     "execution_count": 28,
     "metadata": {},
     "output_type": "execute_result"
    }
   ],
   "source": [
    "df_actualizado_.isnull().sum()\n"
   ]
  },
  {
   "cell_type": "markdown",
   "metadata": {},
   "source": [
    "##### Imputación media"
   ]
  },
  {
   "cell_type": "code",
   "execution_count": 31,
   "metadata": {},
   "outputs": [
    {
     "name": "stderr",
     "output_type": "stream",
     "text": [
      "/tmp/ipykernel_19915/594628434.py:1: SettingWithCopyWarning: \n",
      "A value is trying to be set on a copy of a slice from a DataFrame.\n",
      "Try using .loc[row_indexer,col_indexer] = value instead\n",
      "\n",
      "See the caveats in the documentation: https://pandas.pydata.org/pandas-docs/stable/user_guide/indexing.html#returning-a-view-versus-a-copy\n",
      "  df_actualizado_['Edad'] = df_actualizado_['Edad'].fillna(df_actualizado_['Edad'].mean())\n"
     ]
    }
   ],
   "source": [
    "df_actualizado_['Edad'] = df_actualizado_['Edad'].fillna(df_actualizado_['Edad'].mean())"
   ]
  },
  {
   "cell_type": "code",
   "execution_count": 32,
   "metadata": {},
   "outputs": [
    {
     "data": {
      "text/plain": [
       "Nombre           1\n",
       "Sexo            26\n",
       "Estado_Civil     0\n",
       "Edad             0\n",
       "Experiencia      0\n",
       "Salario          1\n",
       "Gerencia         7\n",
       "Departamento     3\n",
       "dtype: int64"
      ]
     },
     "execution_count": 32,
     "metadata": {},
     "output_type": "execute_result"
    }
   ],
   "source": [
    "df_actualizado_.isnull().sum()\n"
   ]
  },
  {
   "cell_type": "markdown",
   "metadata": {},
   "source": [
    "##### Imputación Regresión lineal"
   ]
  },
  {
   "cell_type": "code",
   "execution_count": 34,
   "metadata": {},
   "outputs": [
    {
     "data": {
      "text/plain": [
       "Nombre           1\n",
       "Sexo            26\n",
       "Estado_Civil     0\n",
       "Edad            46\n",
       "Experiencia      0\n",
       "Salario          1\n",
       "Gerencia         7\n",
       "Departamento     3\n",
       "dtype: int64"
      ]
     },
     "execution_count": 34,
     "metadata": {},
     "output_type": "execute_result"
    }
   ],
   "source": [
    "df_actualizado = df_.dropna(axis=0, thresh=7)\n",
    "df_actualizado.isnull().sum()\n"
   ]
  },
  {
   "cell_type": "code",
   "execution_count": 46,
   "metadata": {},
   "outputs": [
    {
     "data": {
      "text/plain": [
       "Edad           46\n",
       "Experiencia     0\n",
       "Salario         1\n",
       "dtype: int64"
      ]
     },
     "execution_count": 46,
     "metadata": {},
     "output_type": "execute_result"
    }
   ],
   "source": [
    "columnas = df_actualizado.loc[:, ['Edad', 'Experiencia', 'Salario']]\n",
    "columnas.isnull().sum()"
   ]
  },
  {
   "cell_type": "code",
   "execution_count": 48,
   "metadata": {},
   "outputs": [
    {
     "data": {
      "text/plain": [
       "Edad           46\n",
       "Experiencia     0\n",
       "Salario         0\n",
       "dtype: int64"
      ]
     },
     "execution_count": 48,
     "metadata": {},
     "output_type": "execute_result"
    }
   ],
   "source": [
    "columnas['Salario'] = columnas[\n",
    "    'Salario'].fillna(columnas['Salario'].mean())\n",
    "columnas.isnull().sum()"
   ]
  },
  {
   "cell_type": "code",
   "execution_count": 40,
   "metadata": {},
   "outputs": [],
   "source": [
    "regresion_lineal = LinearRegression()"
   ]
  },
  {
   "cell_type": "code",
   "execution_count": 49,
   "metadata": {},
   "outputs": [],
   "source": [
    "datos_entrenamiento = columnas[columnas['Edad'].isnull() == False]\n",
    "datos_prueba = columnas[columnas['Edad'].isnull() == True]"
   ]
  },
  {
   "cell_type": "code",
   "execution_count": 50,
   "metadata": {},
   "outputs": [],
   "source": [
    "y_train = datos_entrenamiento['Edad']\n",
    "x_train = datos_entrenamiento.drop(\"Edad\",axis=1)"
   ]
  },
  {
   "cell_type": "code",
   "execution_count": 51,
   "metadata": {},
   "outputs": [
    {
     "data": {
      "text/html": [
       "<style>#sk-container-id-1 {color: black;}#sk-container-id-1 pre{padding: 0;}#sk-container-id-1 div.sk-toggleable {background-color: white;}#sk-container-id-1 label.sk-toggleable__label {cursor: pointer;display: block;width: 100%;margin-bottom: 0;padding: 0.3em;box-sizing: border-box;text-align: center;}#sk-container-id-1 label.sk-toggleable__label-arrow:before {content: \"▸\";float: left;margin-right: 0.25em;color: #696969;}#sk-container-id-1 label.sk-toggleable__label-arrow:hover:before {color: black;}#sk-container-id-1 div.sk-estimator:hover label.sk-toggleable__label-arrow:before {color: black;}#sk-container-id-1 div.sk-toggleable__content {max-height: 0;max-width: 0;overflow: hidden;text-align: left;background-color: #f0f8ff;}#sk-container-id-1 div.sk-toggleable__content pre {margin: 0.2em;color: black;border-radius: 0.25em;background-color: #f0f8ff;}#sk-container-id-1 input.sk-toggleable__control:checked~div.sk-toggleable__content {max-height: 200px;max-width: 100%;overflow: auto;}#sk-container-id-1 input.sk-toggleable__control:checked~label.sk-toggleable__label-arrow:before {content: \"▾\";}#sk-container-id-1 div.sk-estimator input.sk-toggleable__control:checked~label.sk-toggleable__label {background-color: #d4ebff;}#sk-container-id-1 div.sk-label input.sk-toggleable__control:checked~label.sk-toggleable__label {background-color: #d4ebff;}#sk-container-id-1 input.sk-hidden--visually {border: 0;clip: rect(1px 1px 1px 1px);clip: rect(1px, 1px, 1px, 1px);height: 1px;margin: -1px;overflow: hidden;padding: 0;position: absolute;width: 1px;}#sk-container-id-1 div.sk-estimator {font-family: monospace;background-color: #f0f8ff;border: 1px dotted black;border-radius: 0.25em;box-sizing: border-box;margin-bottom: 0.5em;}#sk-container-id-1 div.sk-estimator:hover {background-color: #d4ebff;}#sk-container-id-1 div.sk-parallel-item::after {content: \"\";width: 100%;border-bottom: 1px solid gray;flex-grow: 1;}#sk-container-id-1 div.sk-label:hover label.sk-toggleable__label {background-color: #d4ebff;}#sk-container-id-1 div.sk-serial::before {content: \"\";position: absolute;border-left: 1px solid gray;box-sizing: border-box;top: 0;bottom: 0;left: 50%;z-index: 0;}#sk-container-id-1 div.sk-serial {display: flex;flex-direction: column;align-items: center;background-color: white;padding-right: 0.2em;padding-left: 0.2em;position: relative;}#sk-container-id-1 div.sk-item {position: relative;z-index: 1;}#sk-container-id-1 div.sk-parallel {display: flex;align-items: stretch;justify-content: center;background-color: white;position: relative;}#sk-container-id-1 div.sk-item::before, #sk-container-id-1 div.sk-parallel-item::before {content: \"\";position: absolute;border-left: 1px solid gray;box-sizing: border-box;top: 0;bottom: 0;left: 50%;z-index: -1;}#sk-container-id-1 div.sk-parallel-item {display: flex;flex-direction: column;z-index: 1;position: relative;background-color: white;}#sk-container-id-1 div.sk-parallel-item:first-child::after {align-self: flex-end;width: 50%;}#sk-container-id-1 div.sk-parallel-item:last-child::after {align-self: flex-start;width: 50%;}#sk-container-id-1 div.sk-parallel-item:only-child::after {width: 0;}#sk-container-id-1 div.sk-dashed-wrapped {border: 1px dashed gray;margin: 0 0.4em 0.5em 0.4em;box-sizing: border-box;padding-bottom: 0.4em;background-color: white;}#sk-container-id-1 div.sk-label label {font-family: monospace;font-weight: bold;display: inline-block;line-height: 1.2em;}#sk-container-id-1 div.sk-label-container {text-align: center;}#sk-container-id-1 div.sk-container {/* jupyter's `normalize.less` sets `[hidden] { display: none; }` but bootstrap.min.css set `[hidden] { display: none !important; }` so we also need the `!important` here to be able to override the default hidden behavior on the sphinx rendered scikit-learn.org. See: https://github.com/scikit-learn/scikit-learn/issues/21755 */display: inline-block !important;position: relative;}#sk-container-id-1 div.sk-text-repr-fallback {display: none;}</style><div id=\"sk-container-id-1\" class=\"sk-top-container\"><div class=\"sk-text-repr-fallback\"><pre>LinearRegression()</pre><b>In a Jupyter environment, please rerun this cell to show the HTML representation or trust the notebook. <br />On GitHub, the HTML representation is unable to render, please try loading this page with nbviewer.org.</b></div><div class=\"sk-container\" hidden><div class=\"sk-item\"><div class=\"sk-estimator sk-toggleable\"><input class=\"sk-toggleable__control sk-hidden--visually\" id=\"sk-estimator-id-1\" type=\"checkbox\" checked><label for=\"sk-estimator-id-1\" class=\"sk-toggleable__label sk-toggleable__label-arrow\">LinearRegression</label><div class=\"sk-toggleable__content\"><pre>LinearRegression()</pre></div></div></div></div></div>"
      ],
      "text/plain": [
       "LinearRegression()"
      ]
     },
     "execution_count": 51,
     "metadata": {},
     "output_type": "execute_result"
    }
   ],
   "source": [
    "regresion_lineal.fit(x_train,y_train)"
   ]
  },
  {
   "cell_type": "code",
   "execution_count": 52,
   "metadata": {},
   "outputs": [],
   "source": [
    "datos_prueba = datos_prueba.drop(\"Edad\",axis=1)"
   ]
  },
  {
   "cell_type": "code",
   "execution_count": 53,
   "metadata": {},
   "outputs": [],
   "source": [
    "predicciones = regresion_lineal.predict(datos_prueba)"
   ]
  },
  {
   "cell_type": "code",
   "execution_count": 55,
   "metadata": {},
   "outputs": [],
   "source": [
    "datos_prueba['Edad'] = predicciones"
   ]
  },
  {
   "cell_type": "code",
   "execution_count": 56,
   "metadata": {},
   "outputs": [
    {
     "data": {
      "text/html": [
       "<div>\n",
       "<style scoped>\n",
       "    .dataframe tbody tr th:only-of-type {\n",
       "        vertical-align: middle;\n",
       "    }\n",
       "\n",
       "    .dataframe tbody tr th {\n",
       "        vertical-align: top;\n",
       "    }\n",
       "\n",
       "    .dataframe thead th {\n",
       "        text-align: right;\n",
       "    }\n",
       "</style>\n",
       "<table border=\"1\" class=\"dataframe\">\n",
       "  <thead>\n",
       "    <tr style=\"text-align: right;\">\n",
       "      <th></th>\n",
       "      <th>Experiencia</th>\n",
       "      <th>Salario</th>\n",
       "      <th>Edad</th>\n",
       "    </tr>\n",
       "  </thead>\n",
       "  <tbody>\n",
       "    <tr>\n",
       "      <th>18</th>\n",
       "      <td>10.0</td>\n",
       "      <td>3194.0</td>\n",
       "      <td>38.135493</td>\n",
       "    </tr>\n",
       "    <tr>\n",
       "      <th>20</th>\n",
       "      <td>15.0</td>\n",
       "      <td>3635.0</td>\n",
       "      <td>44.214749</td>\n",
       "    </tr>\n",
       "    <tr>\n",
       "      <th>27</th>\n",
       "      <td>24.0</td>\n",
       "      <td>4529.0</td>\n",
       "      <td>55.946206</td>\n",
       "    </tr>\n",
       "    <tr>\n",
       "      <th>29</th>\n",
       "      <td>18.0</td>\n",
       "      <td>3907.0</td>\n",
       "      <td>47.920556</td>\n",
       "    </tr>\n",
       "    <tr>\n",
       "      <th>30</th>\n",
       "      <td>5.0</td>\n",
       "      <td>2656.0</td>\n",
       "      <td>31.292631</td>\n",
       "    </tr>\n",
       "    <tr>\n",
       "      <th>37</th>\n",
       "      <td>5.0</td>\n",
       "      <td>2676.0</td>\n",
       "      <td>31.450076</td>\n",
       "    </tr>\n",
       "    <tr>\n",
       "      <th>43</th>\n",
       "      <td>6.0</td>\n",
       "      <td>2709.0</td>\n",
       "      <td>32.231380</td>\n",
       "    </tr>\n",
       "    <tr>\n",
       "      <th>46</th>\n",
       "      <td>9.0</td>\n",
       "      <td>3027.0</td>\n",
       "      <td>36.299310</td>\n",
       "    </tr>\n",
       "    <tr>\n",
       "      <th>47</th>\n",
       "      <td>10.0</td>\n",
       "      <td>3128.0</td>\n",
       "      <td>37.615926</td>\n",
       "    </tr>\n",
       "    <tr>\n",
       "      <th>48</th>\n",
       "      <td>15.0</td>\n",
       "      <td>3614.0</td>\n",
       "      <td>44.049432</td>\n",
       "    </tr>\n",
       "    <tr>\n",
       "      <th>49</th>\n",
       "      <td>25.0</td>\n",
       "      <td>4611.0</td>\n",
       "      <td>57.113249</td>\n",
       "    </tr>\n",
       "    <tr>\n",
       "      <th>56</th>\n",
       "      <td>15.0</td>\n",
       "      <td>3656.0</td>\n",
       "      <td>44.380065</td>\n",
       "    </tr>\n",
       "    <tr>\n",
       "      <th>67</th>\n",
       "      <td>30.0</td>\n",
       "      <td>5034.0</td>\n",
       "      <td>63.050804</td>\n",
       "    </tr>\n",
       "    <tr>\n",
       "      <th>78</th>\n",
       "      <td>1.0</td>\n",
       "      <td>2095.0</td>\n",
       "      <td>24.790228</td>\n",
       "    </tr>\n",
       "    <tr>\n",
       "      <th>79</th>\n",
       "      <td>2.0</td>\n",
       "      <td>2222.0</td>\n",
       "      <td>26.311522</td>\n",
       "    </tr>\n",
       "    <tr>\n",
       "      <th>84</th>\n",
       "      <td>24.0</td>\n",
       "      <td>4545.0</td>\n",
       "      <td>56.072162</td>\n",
       "    </tr>\n",
       "    <tr>\n",
       "      <th>89</th>\n",
       "      <td>27.0</td>\n",
       "      <td>4889.0</td>\n",
       "      <td>60.344770</td>\n",
       "    </tr>\n",
       "    <tr>\n",
       "      <th>97</th>\n",
       "      <td>1.0</td>\n",
       "      <td>1929.0</td>\n",
       "      <td>23.483437</td>\n",
       "    </tr>\n",
       "    <tr>\n",
       "      <th>103</th>\n",
       "      <td>8.0</td>\n",
       "      <td>2919.0</td>\n",
       "      <td>34.927589</td>\n",
       "    </tr>\n",
       "    <tr>\n",
       "      <th>109</th>\n",
       "      <td>6.0</td>\n",
       "      <td>2774.0</td>\n",
       "      <td>32.743075</td>\n",
       "    </tr>\n",
       "    <tr>\n",
       "      <th>128</th>\n",
       "      <td>25.0</td>\n",
       "      <td>4652.0</td>\n",
       "      <td>57.436011</td>\n",
       "    </tr>\n",
       "    <tr>\n",
       "      <th>130</th>\n",
       "      <td>23.0</td>\n",
       "      <td>4500.0</td>\n",
       "      <td>55.196391</td>\n",
       "    </tr>\n",
       "    <tr>\n",
       "      <th>142</th>\n",
       "      <td>10.0</td>\n",
       "      <td>3115.0</td>\n",
       "      <td>37.513587</td>\n",
       "    </tr>\n",
       "    <tr>\n",
       "      <th>156</th>\n",
       "      <td>21.0</td>\n",
       "      <td>4214.0</td>\n",
       "      <td>51.901892</td>\n",
       "    </tr>\n",
       "    <tr>\n",
       "      <th>160</th>\n",
       "      <td>30.0</td>\n",
       "      <td>5116.0</td>\n",
       "      <td>63.696327</td>\n",
       "    </tr>\n",
       "    <tr>\n",
       "      <th>171</th>\n",
       "      <td>11.0</td>\n",
       "      <td>3209.0</td>\n",
       "      <td>38.775097</td>\n",
       "    </tr>\n",
       "    <tr>\n",
       "      <th>173</th>\n",
       "      <td>13.0</td>\n",
       "      <td>3433.0</td>\n",
       "      <td>41.581517</td>\n",
       "    </tr>\n",
       "    <tr>\n",
       "      <th>178</th>\n",
       "      <td>3.0</td>\n",
       "      <td>2492.0</td>\n",
       "      <td>28.958545</td>\n",
       "    </tr>\n",
       "    <tr>\n",
       "      <th>180</th>\n",
       "      <td>17.0</td>\n",
       "      <td>3847.0</td>\n",
       "      <td>46.926702</td>\n",
       "    </tr>\n",
       "    <tr>\n",
       "      <th>181</th>\n",
       "      <td>32.0</td>\n",
       "      <td>5358.0</td>\n",
       "      <td>66.644448</td>\n",
       "    </tr>\n",
       "    <tr>\n",
       "      <th>182</th>\n",
       "      <td>9.0</td>\n",
       "      <td>3059.0</td>\n",
       "      <td>36.551222</td>\n",
       "    </tr>\n",
       "    <tr>\n",
       "      <th>183</th>\n",
       "      <td>29.0</td>\n",
       "      <td>5085.0</td>\n",
       "      <td>62.930768</td>\n",
       "    </tr>\n",
       "    <tr>\n",
       "      <th>187</th>\n",
       "      <td>2.0</td>\n",
       "      <td>2209.0</td>\n",
       "      <td>26.209183</td>\n",
       "    </tr>\n",
       "    <tr>\n",
       "      <th>198</th>\n",
       "      <td>11.0</td>\n",
       "      <td>3300.0</td>\n",
       "      <td>39.491470</td>\n",
       "    </tr>\n",
       "    <tr>\n",
       "      <th>200</th>\n",
       "      <td>3.0</td>\n",
       "      <td>2320.0</td>\n",
       "      <td>27.604521</td>\n",
       "    </tr>\n",
       "    <tr>\n",
       "      <th>205</th>\n",
       "      <td>17.0</td>\n",
       "      <td>3839.0</td>\n",
       "      <td>46.863724</td>\n",
       "    </tr>\n",
       "    <tr>\n",
       "      <th>207</th>\n",
       "      <td>30.0</td>\n",
       "      <td>5189.0</td>\n",
       "      <td>64.271000</td>\n",
       "    </tr>\n",
       "    <tr>\n",
       "      <th>208</th>\n",
       "      <td>16.0</td>\n",
       "      <td>3797.0</td>\n",
       "      <td>46.011571</td>\n",
       "    </tr>\n",
       "    <tr>\n",
       "      <th>209</th>\n",
       "      <td>24.0</td>\n",
       "      <td>4516.0</td>\n",
       "      <td>55.843867</td>\n",
       "    </tr>\n",
       "    <tr>\n",
       "      <th>216</th>\n",
       "      <td>14.0</td>\n",
       "      <td>3507.0</td>\n",
       "      <td>42.685583</td>\n",
       "    </tr>\n",
       "    <tr>\n",
       "      <th>225</th>\n",
       "      <td>24.0</td>\n",
       "      <td>4544.0</td>\n",
       "      <td>56.064289</td>\n",
       "    </tr>\n",
       "    <tr>\n",
       "      <th>231</th>\n",
       "      <td>8.0</td>\n",
       "      <td>2986.0</td>\n",
       "      <td>35.455029</td>\n",
       "    </tr>\n",
       "    <tr>\n",
       "      <th>234</th>\n",
       "      <td>2.0</td>\n",
       "      <td>2169.0</td>\n",
       "      <td>25.894293</td>\n",
       "    </tr>\n",
       "    <tr>\n",
       "      <th>235</th>\n",
       "      <td>16.0</td>\n",
       "      <td>3769.0</td>\n",
       "      <td>45.791148</td>\n",
       "    </tr>\n",
       "    <tr>\n",
       "      <th>237</th>\n",
       "      <td>35.0</td>\n",
       "      <td>5614.0</td>\n",
       "      <td>70.224300</td>\n",
       "    </tr>\n",
       "    <tr>\n",
       "      <th>243</th>\n",
       "      <td>24.0</td>\n",
       "      <td>4510.0</td>\n",
       "      <td>55.796633</td>\n",
       "    </tr>\n",
       "  </tbody>\n",
       "</table>\n",
       "</div>"
      ],
      "text/plain": [
       "     Experiencia  Salario       Edad\n",
       "18          10.0   3194.0  38.135493\n",
       "20          15.0   3635.0  44.214749\n",
       "27          24.0   4529.0  55.946206\n",
       "29          18.0   3907.0  47.920556\n",
       "30           5.0   2656.0  31.292631\n",
       "37           5.0   2676.0  31.450076\n",
       "43           6.0   2709.0  32.231380\n",
       "46           9.0   3027.0  36.299310\n",
       "47          10.0   3128.0  37.615926\n",
       "48          15.0   3614.0  44.049432\n",
       "49          25.0   4611.0  57.113249\n",
       "56          15.0   3656.0  44.380065\n",
       "67          30.0   5034.0  63.050804\n",
       "78           1.0   2095.0  24.790228\n",
       "79           2.0   2222.0  26.311522\n",
       "84          24.0   4545.0  56.072162\n",
       "89          27.0   4889.0  60.344770\n",
       "97           1.0   1929.0  23.483437\n",
       "103          8.0   2919.0  34.927589\n",
       "109          6.0   2774.0  32.743075\n",
       "128         25.0   4652.0  57.436011\n",
       "130         23.0   4500.0  55.196391\n",
       "142         10.0   3115.0  37.513587\n",
       "156         21.0   4214.0  51.901892\n",
       "160         30.0   5116.0  63.696327\n",
       "171         11.0   3209.0  38.775097\n",
       "173         13.0   3433.0  41.581517\n",
       "178          3.0   2492.0  28.958545\n",
       "180         17.0   3847.0  46.926702\n",
       "181         32.0   5358.0  66.644448\n",
       "182          9.0   3059.0  36.551222\n",
       "183         29.0   5085.0  62.930768\n",
       "187          2.0   2209.0  26.209183\n",
       "198         11.0   3300.0  39.491470\n",
       "200          3.0   2320.0  27.604521\n",
       "205         17.0   3839.0  46.863724\n",
       "207         30.0   5189.0  64.271000\n",
       "208         16.0   3797.0  46.011571\n",
       "209         24.0   4516.0  55.843867\n",
       "216         14.0   3507.0  42.685583\n",
       "225         24.0   4544.0  56.064289\n",
       "231          8.0   2986.0  35.455029\n",
       "234          2.0   2169.0  25.894293\n",
       "235         16.0   3769.0  45.791148\n",
       "237         35.0   5614.0  70.224300\n",
       "243         24.0   4510.0  55.796633"
      ]
     },
     "execution_count": 56,
     "metadata": {},
     "output_type": "execute_result"
    }
   ],
   "source": [
    "datos_prueba\n"
   ]
  }
 ],
 "metadata": {
  "kernelspec": {
   "display_name": "Python 3",
   "language": "python",
   "name": "python3"
  },
  "language_info": {
   "codemirror_mode": {
    "name": "ipython",
    "version": 3
   },
   "file_extension": ".py",
   "mimetype": "text/x-python",
   "name": "python",
   "nbconvert_exporter": "python",
   "pygments_lexer": "ipython3",
   "version": "3.10.12"
  },
  "orig_nbformat": 4
 },
 "nbformat": 4,
 "nbformat_minor": 2
}
