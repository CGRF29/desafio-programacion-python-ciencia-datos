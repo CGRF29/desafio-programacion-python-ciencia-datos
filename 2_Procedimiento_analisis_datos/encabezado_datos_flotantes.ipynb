{
 "cells": [
  {
   "cell_type": "code",
   "execution_count": null,
   "metadata": {},
   "outputs": [],
   "source": [
    "pip install numpy"
   ]
  },
  {
   "cell_type": "markdown",
   "metadata": {},
   "source": [
    "##### Eliminar encabezado"
   ]
  },
  {
   "cell_type": "code",
   "execution_count": 6,
   "metadata": {},
   "outputs": [],
   "source": [
    "#Librerias\n",
    "import pandas as pd\n",
    "import numpy as np"
   ]
  },
  {
   "cell_type": "code",
   "execution_count": 4,
   "metadata": {},
   "outputs": [],
   "source": [
    "df = pd.read_csv('datos.csv',delimiter=\";\")"
   ]
  },
  {
   "cell_type": "code",
   "execution_count": 7,
   "metadata": {},
   "outputs": [],
   "source": [
    "df_datos = np.delete(df, 0, axis =0) "
   ]
  },
  {
   "cell_type": "code",
   "execution_count": 8,
   "metadata": {},
   "outputs": [
    {
     "data": {
      "text/plain": [
       "array([[  1.7 ,  64.47],\n",
       "       [  1.73,  66.28],\n",
       "       [  1.75,  68.1 ],\n",
       "       [  1.78,  69.92],\n",
       "       [  1.8 ,  72.19],\n",
       "       [  1.83,  74.46],\n",
       "       [  1.57, 105.18],\n",
       "       [  1.19, 114.41],\n",
       "       [  1.74,  82.3 ],\n",
       "       [  1.82, 117.53],\n",
       "       [  1.32, 104.75],\n",
       "       [  1.4 ,  58.88],\n",
       "       [  1.14,  66.02],\n",
       "       [  1.25, 106.64],\n",
       "       [  1.71, 110.2 ],\n",
       "       [  1.39,  82.25],\n",
       "       [  1.55, 100.12],\n",
       "       [  1.55,  92.07],\n",
       "       [  1.93, 129.42],\n",
       "       [  1.38,  70.65],\n",
       "       [  1.41, 113.85],\n",
       "       [  1.98,  60.38],\n",
       "       [  1.71,  80.4 ],\n",
       "       [  1.4 , 124.82],\n",
       "       [  1.57,  93.42],\n",
       "       [  1.86, 114.97],\n",
       "       [  1.78,  57.22],\n",
       "       [  1.32, 116.32],\n",
       "       [  1.7 ,  55.01],\n",
       "       [  1.98,  71.78],\n",
       "       [  1.62,  96.71],\n",
       "       [  1.28,  52.26],\n",
       "       [  1.8 , 118.08],\n",
       "       [  1.91,  57.18],\n",
       "       [  1.71, 120.92],\n",
       "       [  1.95,  62.62],\n",
       "       [  1.11,  59.25],\n",
       "       [  1.56,  71.42],\n",
       "       [  1.76,  74.24],\n",
       "       [  1.52,  92.98],\n",
       "       [  1.47,  52.21],\n",
       "       [  1.5 ,  53.12],\n",
       "       [  1.52,  54.48],\n",
       "       [  1.55,  55.84],\n",
       "       [  1.57,  57.2 ],\n",
       "       [  1.6 ,  58.57],\n",
       "       [  1.63,  59.93],\n",
       "       [  1.65,  61.29]])"
      ]
     },
     "execution_count": 8,
     "metadata": {},
     "output_type": "execute_result"
    }
   ],
   "source": [
    "df_datos"
   ]
  },
  {
   "cell_type": "markdown",
   "metadata": {},
   "source": [
    "##### Pasar a type float"
   ]
  },
  {
   "cell_type": "code",
   "execution_count": 9,
   "metadata": {},
   "outputs": [
    {
     "data": {
      "text/plain": [
       "array([[  1.7 ,  64.47],\n",
       "       [  1.73,  66.28],\n",
       "       [  1.75,  68.1 ],\n",
       "       [  1.78,  69.92],\n",
       "       [  1.8 ,  72.19],\n",
       "       [  1.83,  74.46],\n",
       "       [  1.57, 105.18],\n",
       "       [  1.19, 114.41],\n",
       "       [  1.74,  82.3 ],\n",
       "       [  1.82, 117.53],\n",
       "       [  1.32, 104.75],\n",
       "       [  1.4 ,  58.88],\n",
       "       [  1.14,  66.02],\n",
       "       [  1.25, 106.64],\n",
       "       [  1.71, 110.2 ],\n",
       "       [  1.39,  82.25],\n",
       "       [  1.55, 100.12],\n",
       "       [  1.55,  92.07],\n",
       "       [  1.93, 129.42],\n",
       "       [  1.38,  70.65],\n",
       "       [  1.41, 113.85],\n",
       "       [  1.98,  60.38],\n",
       "       [  1.71,  80.4 ],\n",
       "       [  1.4 , 124.82],\n",
       "       [  1.57,  93.42],\n",
       "       [  1.86, 114.97],\n",
       "       [  1.78,  57.22],\n",
       "       [  1.32, 116.32],\n",
       "       [  1.7 ,  55.01],\n",
       "       [  1.98,  71.78],\n",
       "       [  1.62,  96.71],\n",
       "       [  1.28,  52.26],\n",
       "       [  1.8 , 118.08],\n",
       "       [  1.91,  57.18],\n",
       "       [  1.71, 120.92],\n",
       "       [  1.95,  62.62],\n",
       "       [  1.11,  59.25],\n",
       "       [  1.56,  71.42],\n",
       "       [  1.76,  74.24],\n",
       "       [  1.52,  92.98],\n",
       "       [  1.47,  52.21],\n",
       "       [  1.5 ,  53.12],\n",
       "       [  1.52,  54.48],\n",
       "       [  1.55,  55.84],\n",
       "       [  1.57,  57.2 ],\n",
       "       [  1.6 ,  58.57],\n",
       "       [  1.63,  59.93],\n",
       "       [  1.65,  61.29]])"
      ]
     },
     "execution_count": 9,
     "metadata": {},
     "output_type": "execute_result"
    }
   ],
   "source": [
    "df_datos = df_datos.astype(float)\n",
    "df_datos"
   ]
  }
 ],
 "metadata": {
  "kernelspec": {
   "display_name": "Python 3",
   "language": "python",
   "name": "python3"
  },
  "language_info": {
   "codemirror_mode": {
    "name": "ipython",
    "version": 3
   },
   "file_extension": ".py",
   "mimetype": "text/x-python",
   "name": "python",
   "nbconvert_exporter": "python",
   "pygments_lexer": "ipython3",
   "version": "3.10.12"
  },
  "orig_nbformat": 4
 },
 "nbformat": 4,
 "nbformat_minor": 2
}
